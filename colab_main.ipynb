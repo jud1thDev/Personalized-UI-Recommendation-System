{
  "cells": [
    {
      "cell_type": "markdown",
      "metadata": {},
      "source": [
        "# Personalized UI Recommendation System - Colab Version"
      ]
    },
    {
      "cell_type": "markdown",
      "metadata": {},
      "source": [
        "## 1. 환경 설정 및 패키지 설치"
      ]
    },
    {
      "cell_type": "code",
      "execution_count": null,
      "metadata": {},
      "outputs": [],
      "source": [
        "# 필수 패키지 설치\n",
        "!pip install -r requirements.txt\n",
        "\n",
        "# 코랩 파일 다운로드 활성화\n",
        "from google.colab import files"
      ]
    },
    {
      "cell_type": "markdown",
      "metadata": {},
      "source": [
        "## 2. 모듈 import 및 설정"
      ]
    },
    {
      "cell_type": "code",
      "execution_count": null,
      "metadata": {},
      "outputs": [],
      "source": [
        "import os\n",
        "import pandas as pd\n",
        "import numpy as np\n",
        "import joblib\n",
        "import warnings\n",
        "warnings.filterwarnings('ignore')\n",
        "\n",
        "# 프로젝트 모듈 import\n",
        "from ui_rec.src.data.generate_mock import generate_users, generate_functions, simulate_events\n",
        "from ui_rec.src.features.build_features import build_features_colab\n",
        "from ui_rec.src.models.common import train_binary, train_multiclass, train_regression\n",
        "from ui_rec.src.models.ui_grouping import create_ui_component_groups\n",
        "from ui_rec.src.utils.icons import get_icon_suggestion\n",
        "from ui_rec.src.utils.ai_label_generator import create_ai_label_generator\n",
        "from ui_rec.src.utils.io import read_yaml, ensure_dir, write_csv_with_timestamp, latest_file, save_model\n",
        "from ui_rec.src.utils.features import entropy\n",
        "\n",
        "print(\"모듈 import 완료\")"
      ]
    },
    {
      "cell_type": "markdown",
      "metadata": {},
      "source": [
        "## 3. 설정 파일 생성"
      ]
    },
    {
      "cell_type": "code",
      "execution_count": null,
      "metadata": {},
      "outputs": [],
      "source": [
        "# 설정 파일 생성\n",
        "print(\"설정 파일 생성 중...\")\n",
        "\n",
        "# data.yaml 생성\n",
        "data_config = {\n",
        "    \"paths\": {\n",
        "        \"raw\": \"ui_rec/data/raw\",\n",
        "        \"processed\": \"ui_rec/data/processed\",\n",
        "        \"models\": \"ui_rec/data/models\",\n",
        "        \"logs\": \"ui_rec/data/logs\",\n",
        "        \"outputs\": \"ui_rec/data/outputs\"\n",
        "    },\n",
        "    \"files\": {\n",
        "        \"raw_pattern\": \"user_events_*.csv\",\n",
        "        \"processed_pattern\": \"features_*.csv\",\n",
        "        \"model_pattern\": \"*.joblib\",\n",
        "        \"log_pattern\": \"*.log\",\n",
        "        \"output_pattern\": \"ui_home_outputs.json\"\n",
        "    }\n",
        "}\n",
        "\n",
        "# model.yaml 생성\n",
        "model_config = {\n",
        "    \"lgbm\": {\n",
        "        \"exposure\": {\n",
        "            \"objective\": \"binary\",\n",
        "            \"metric\": \"auc\",\n",
        "            \"boosting_type\": \"gbdt\",\n",
        "            \"num_leaves\": 31,\n",
        "            \"learning_rate\": 0.05,\n",
        "            \"feature_fraction\": 0.9,\n",
        "            \"bagging_fraction\": 0.8,\n",
        "            \"bagging_freq\": 5,\n",
        "            \"verbose\": -1\n",
        "        },\n",
        "        \"ui_type\": {\n",
        "            \"objective\": \"multiclass\",\n",
        "            \"metric\": \"multi_logloss\",\n",
        "            \"num_class\": 5,\n",
        "            \"boosting_type\": \"gbdt\",\n",
        "            \"num_leaves\": 31,\n",
        "            \"learning_rate\": 0.05,\n",
        "            \"feature_fraction\": 0.9,\n",
        "            \"bagging_fraction\": 0.8,\n",
        "            \"bagging_freq\": 5,\n",
        "            \"verbose\": -1\n",
        "        },\n",
        "        \"service_cluster\": {\n",
        "            \"objective\": \"multiclass\",\n",
        "            \"metric\": \"multi_logloss\",\n",
        "            \"num_class\": 7,\n",
        "            \"boosting_type\": \"gbdt\",\n",
        "            \"num_leaves\": 31,\n",
        "            \"learning_rate\": 0.05,\n",
        "            \"feature_fraction\": 0.9,\n",
        "            \"bagging_fraction\": 0.8,\n",
        "            \"bagging_freq\": 5,\n",
        "            \"verbose\": -1\n",
        "        },\n",
        "        \"rank\": {\n",
        "            \"objective\": \"regression\",\n",
        "            \"metric\": \"rmse\",\n",
        "            \"boosting_type\": \"gbdt\",\n",
        "            \"num_leaves\": 31,\n",
        "            \"learning_rate\": 0.05,\n",
        "            \"feature_fraction\": 0.9,\n",
        "            \"bagging_fraction\": 0.8,\n",
        "            \"bagging_freq\": 5,\n",
        "            \"verbose\": -1\n",
        "        }\n",
        "    },\n",
        "    \"ui\": {\n",
        "        \"allowed_types\": [\"card\", \"list_item\", \"banner\", \"icon\", \"grid_item\"],\n",
        "        \"default_type\": \"card\"\n",
        "    },\n",
        "    \"service_clusters\": {\n",
        "        \"mapping\": {\n",
        "            \"account\": 0, \"finance\": 1, \"lifestyle\": 2, \n",
        "            \"health\": 3, \"shopping\": 4, \"travel\": 5, \"security\": 6\n",
        "        },\n",
        "        \"labels\": {\n",
        "            \"0\": \"account\", \"1\": \"finance\", \"2\": \"lifestyle\",\n",
        "            \"3\": \"health\", \"4\": \"shopping\", \"5\": \"travel\", \"6\": \"security\"\n",
        "        }\n",
        "    }\n",
        "}\n",
        "\n",
        "# 디렉토리 생성\n",
        "for path in data_config[\"paths\"].values():\n",
        "    ensure_dir(path)\n",
        "\n",
        "print(\"설정 파일 생성 완료\")"
      ]
    },
    {
      "cell_type": "markdown",
      "metadata": {},
      "source": [
        "## 4. mock 데이터 생성"
      ]
    },
    {
      "cell_type": "code",
      "execution_count": null,
      "metadata": {},
      "outputs": [],
      "source": [
        "print(\"모의 데이터 생성 중...\")\n",
        "\n",
        "# 사용자 및 기능 생성\n",
        "users = generate_users(n_users=20)\n",
        "funcs = generate_functions()\n",
        "\n",
        "# 이벤트 시뮬레이션\n",
        "events = simulate_events(users, funcs, days=7)\n",
        "\n",
        "# 데이터 저장\n",
        "raw_file = write_csv_with_timestamp(events, \"ui_rec/data/raw\", \"user_events\")\n",
        "print(f\"모의 데이터 생성 완료: {len(users)}명 사용자, {len(events)}개 이벤트\")\n",
        "print(f\"저장 위치: {raw_file}\")"
      ]
    },
    {
      "cell_type": "markdown",
      "metadata": {},
      "source": [
        "## 5. 피처 생성"
      ]
    },
    {
      "cell_type": "code",
      "execution_count": null,
      "metadata": {},
      "outputs": [],
      "source": [
        "print(\"피처 생성 중...\")\n",
        "\n",
        "# 피처 엔지니어링\n",
        "features_df = build_features_colab(raw_file)\n",
        "\n",
        "# 처리된 데이터 저장\n",
        "processed_file = write_csv_with_timestamp(features_df, \"ui_rec/data/processed\", \"features\")\n",
        "print(f\"피처 생성 완료: {len(features_df)}개 샘플\")\n",
        "print(f\"저장 위치: {processed_file}\")"
      ]
    },
    {
      "cell_type": "markdown",
      "metadata": {},
      "source": [
        "## 6. 모델 학습"
      ]
    },
    {
      "cell_type": "code",
      "execution_count": null,
      "metadata": {},
      "outputs": [],
      "source": [
        "print(\"모델 학습 중...\")\n",
        "\n",
        "# 데이터 로드 및 전처리\n",
        "df = pd.read_csv(processed_file)\n",
        "\n",
        "# 학습/검증 데이터 분할\n",
        "from ui_rec.src.models.common import split_xy\n",
        "X, y_exposure = split_xy(df, \"exposure\")\n",
        "_, y_ui_type = split_xy(df, \"ui_type\")\n",
        "_, y_service_cluster = split_xy(df, \"service_cluster\")\n",
        "_, y_rank = split_xy(df, \"rank\")\n",
        "\n",
        "# Exposure 모델 학습\n",
        "print(\"- Exposure 모델 학습 중...\")\n",
        "exposure_model = train_binary(X, y_exposure, model_config[\"lgbm\"][\"exposure\"])\n",
        "save_model(exposure_model, \"ui_rec/data/models\", \"lgbm_exposure\")\n",
        "\n",
        "# UI Type 모델 학습\n",
        "print(\"- UI Type 모델 학습 중...\")\n",
        "ui_type_model = train_multiclass(X, y_ui_type, model_config[\"lgbm\"][\"ui_type\"])\n",
        "save_model(ui_type_model, \"ui_rec/data/models\", \"lgbm_ui_type\")\n",
        "\n",
        "# Service Cluster 모델 학습\n",
        "print(\"- Service Cluster 모델 학습 중...\")\n",
        "service_cluster_model = train_multiclass(X, y_service_cluster, model_config[\"lgbm\"][\"service_cluster\"])\n",
        "save_model(service_cluster_model, \"ui_rec/data/models\", \"lgbm_service_cluster\")\n",
        "\n",
        "# Rank 모델 학습\n",
        "print(\"- Rank 모델 학습 중...\")\n",
        "rank_model = train_regression(X, y_rank, model_config[\"lgbm\"][\"rank\"])\n",
        "save_model(rank_model, \"ui_rec/data/models\", \"lgbm_rank\")\n",
        "\n",
        "print(\"모델 학습 완료!\")"
      ]
    },
    {
      "cell_type": "markdown",
      "metadata": {},
      "source": [
        "## 7. 추론 및 결과 생성"
      ]
    },
    {
      "cell_type": "code",
      "execution_count": null,
      "metadata": {},
      "outputs": [],
      "source": [
        "print(\"추론 및 결과 생성 중...\")\n",
        "\n",
        "# 모델 로드\n",
        "exposure_model = joblib.load(\"ui_rec/data/models/lgbm_exposure.joblib\")\n",
        "ui_type_model = joblib.load(\"ui_rec/data/models/lgbm_ui_type.joblib\")\n",
        "service_cluster_model = joblib.load(\"ui_rec/data/models/lgbm_service_cluster.joblib\")\n",
        "rank_model = joblib.load(\"ui_rec/data/models/lgbm_rank.joblib\")\n",
        "\n",
        "# 추론용 데이터 준비\n",
        "drop_cols = [\"exposure\", \"ui_type\", \"service_cluster\", \"rank\", \"user_id\", \"function_id\"]\n",
        "X_pred = df.drop(columns=drop_cols)\n",
        "\n",
        "# 예측 수행\n",
        "exposure_pred = exposure_model.predict(X_pred)\n",
        "ui_type_pred = ui_type_model.predict(X_pred)\n",
        "service_cluster_pred = service_cluster_model.predict(X_pred)\n",
        "rank_pred = rank_model.predict(X_pred)\n",
        "\n",
        "# 결과 데이터프레임 생성\n",
        "results_df = pd.DataFrame({\n",
        "    \"user_id\": df[\"user_id\"],\n",
        "    \"function_id\": df[\"function_id\"],\n",
        "    \"exposure\": exposure_pred,\n",
        "    \"ui_type\": ui_type_pred,\n",
        "    \"service_cluster\": service_cluster_pred,\n",
        "    \"rank\": rank_pred\n",
        "})\n",
        "\n",
        "# UI 타입 매핑\n",
        "ui_type_mapping = {0: \"card\", 1: \"list_item\", 2: \"banner\", 3: \"icon\", 4: \"grid_item\"}\n",
        "results_df[\"component_type\"] = results_df[\"ui_type\"].map(ui_type_mapping)\n",
        "\n",
        "# 서비스 클러스터 매핑\n",
        "results_df[\"service_cluster\"] = results_df[\"service_cluster\"].astype(str).map(model_config[\"service_clusters\"][\"labels\"])\n",
        "\n",
        "print(\"추론 완료!\")"
      ]
    },
    {
      "cell_type": "markdown",
      "metadata": {},
      "source": [
        "## 8. UI 그룹화 및 최종 결과 생성"
      ]
    },
    {
      "cell_type": "code",
      "execution_count": null,
      "metadata": {},
      "outputs": [],
      "source": [
        "# 노출될 기능만 필터링\n",
        "exposed_functions = results_df[results_df[\"exposure\"] == 1].copy()\n",
        "\n",
        "# 아이콘 추천 추가\n",
        "exposed_functions[\"icon_suggestion\"] = exposed_functions.apply(\n",
        "    lambda row: get_icon_suggestion(row[\"function_id\"], row[\"service_cluster\"]), axis=1\n",
        ")\n",
        "\n",
        "# 사용자별로 그룹화하여 최종 결과 생성\n",
        "final_results = []\n",
        "\n",
        "for user_id in exposed_functions[\"user_id\"].unique():\n",
        "    user_functions = exposed_functions[exposed_functions[\"user_id\"] == user_id].copy()\n",
        "    \n",
        "    # 순위별로 정렬\n",
        "    user_functions = user_functions.sort_values(\"rank\")\n",
        "    \n",
        "    # UI 컴포넌트 그룹 생성\n",
        "    groups = create_ui_component_groups(user_functions.to_dict('records'), user_id)\n",
        "    \n",
        "    # 최종 결과 구조\n",
        "    user_result = {\n",
        "        \"user_id\": user_id,\n",
        "        \"home\": {\n",
        "            \"layout_density\": \"medium\",\n",
        "            \"groups\": groups\n",
        "        }\n",
        "    }\n",
        "    \n",
        "    final_results.append(user_result)\n",
        "\n",
        "print(f\"UI 그룹화 완료: {len(final_results)}명 사용자\")"
      ]
    },
    {
      "cell_type": "markdown",
      "metadata": {},
      "source": [
        "## 9. 결과 저장 및 다운로드"
      ]
    },
    {
      "cell_type": "code",
      "execution_count": null,
      "metadata": {},
      "outputs": [],
      "source": [
        "import json\n",
        "\n",
        "# JSON 파일로 저장\n",
        "output_file = \"ui_rec/data/outputs/ui_home_outputs.json\"\n",
        "with open(output_file, 'w', encoding='utf-8') as f:\n",
        "    json.dump(final_results, f, ensure_ascii=False, indent=2)\n",
        "\n",
        "print(f\"결과 저장 완료: {output_file}\")\n",
        "\n",
        "# 코랩에서 파일 다운로드\n",
        "files.download(output_file)\n",
        "\n",
        "print(\"\\n\" + \"=\"*60)\n",
        "print(\"Personalized UI Recommendation System 실행 완료!\")\n",
        "print(f\"총 사용자: {len(final_results)}명\")\n",
        "print(f\"결과 파일: {output_file}\")\n",
        "print(\"=\"*60)"
      ]
    }
  ],
  "metadata": {
    "kernelspec": {
      "display_name": "Python 3",
      "name": "python3"
    }
  },
  "nbformat": 4,
  "nbformat_minor": 4
}
